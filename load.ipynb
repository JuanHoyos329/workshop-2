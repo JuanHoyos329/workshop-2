{
 "cells": [
  {
   "cell_type": "code",
   "execution_count": 8,
   "id": "b8d62db6",
   "metadata": {},
   "outputs": [
    {
     "name": "stdout",
     "output_type": "stream",
     "text": [
      "Your browser has been opened to visit:\n",
      "\n",
      "    https://accounts.google.com/o/oauth2/auth?client_id=493959542321-j5nhb4502gqffq6hu7kr63m9v4mca8oi.apps.googleusercontent.com&redirect_uri=http%3A%2F%2Flocalhost%3A8080%2F&scope=https%3A%2F%2Fwww.googleapis.com%2Fauth%2Fdrive&access_type=online&response_type=code\n",
      "\n",
      "Authentication successful.\n",
      "Authentication successful.\n",
      "Archivo merged_final_grammy_spotify_clean.csv subido exitosamente a Google Drive.\n",
      "Archivo merged_final_grammy_spotify_clean.csv subido exitosamente a Google Drive.\n"
     ]
    }
   ],
   "source": [
    "from pydrive2.auth import GoogleAuth\n",
    "from pydrive2.drive import GoogleDrive\n",
    "import os\n",
    "\n",
    "CLIENT_SECRET_PATH = r\"C:\\Users\\juana\\OneDrive\\Escritorio\\ETL\\workshop-2\\dags\\client_secret.json\"\n",
    "\n",
    "CSV_FILE_PATH = r\"C:\\Users\\juana\\OneDrive\\Escritorio\\ETL\\workshop-2\\dags\\merged_final_grammy_spotify_clean.csv\" \n",
    "\n",
    "# Pass the client secret file explicitly as a settings dict to avoid loading a settings.yaml string\n",
    "gauth = GoogleAuth(settings={\n",
    "    \"client_config_backend\": \"file\",\n",
    "    \"client_config_file\": CLIENT_SECRET_PATH\n",
    "})\n",
    "\n",
    "gauth.LocalWebserverAuth()\n",
    "\n",
    "drive = GoogleDrive(gauth)\n",
    "\n",
    "folder_id = \"1_2yFobHWeBehntIZbYCdFN-q17t9tQ_s\"\n",
    "file_name = os.path.basename(CSV_FILE_PATH)\n",
    "\n",
    "file = drive.CreateFile({\n",
    "    \"title\": file_name,\n",
    "    \"parents\": [{\"kind\": \"drive#fileLink\", \"id\": folder_id}]\n",
    "})\n",
    "\n",
    "file.SetContentFile(CSV_FILE_PATH)\n",
    "\n",
    "file.Upload()\n",
    "\n",
    "print(f\"Archivo {file_name} subido exitosamente a Google Drive.\")\n"
   ]
  }
 ],
 "metadata": {
  "kernelspec": {
   "display_name": ".airflow",
   "language": "python",
   "name": "python3"
  },
  "language_info": {
   "codemirror_mode": {
    "name": "ipython",
    "version": 3
   },
   "file_extension": ".py",
   "mimetype": "text/x-python",
   "name": "python",
   "nbconvert_exporter": "python",
   "pygments_lexer": "ipython3",
   "version": "3.13.8"
  }
 },
 "nbformat": 4,
 "nbformat_minor": 5
}
